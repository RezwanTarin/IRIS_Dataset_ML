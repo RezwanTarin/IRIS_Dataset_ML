{
  "nbformat": 4,
  "nbformat_minor": 0,
  "metadata": {
    "colab": {
      "name": "Assignment02_ML_101198704.ipynb",
      "provenance": [],
      "collapsed_sections": []
    },
    "kernelspec": {
      "name": "python3",
      "display_name": "Python 3"
    }
  },
  "cells": [
    {
      "cell_type": "code",
      "metadata": {
        "colab": {
          "base_uri": "https://localhost:8080/"
        },
        "id": "z1jUYM--hk44",
        "outputId": "f23dd958-3f43-4782-d182-da0641aba1e8"
      },
      "source": [
        "#Rezwan Tarin 101198704\n",
        "from google.colab import drive\n",
        "drive.mount('/content/drive')"
      ],
      "execution_count": null,
      "outputs": [
        {
          "output_type": "stream",
          "text": [
            "Mounted at /content/drive\n"
          ],
          "name": "stdout"
        }
      ]
    },
    {
      "cell_type": "code",
      "metadata": {
        "id": "gNq_gL4kir8Q"
      },
      "source": [
        "import pandas as pd"
      ],
      "execution_count": null,
      "outputs": []
    },
    {
      "cell_type": "code",
      "metadata": {
        "id": "Mz1vO47ci50k"
      },
      "source": [
        "#01-a Find the path of iris.csv file, and save it in a variable called fileName.\n",
        "fileName=\"/content/drive/MyDrive/Colab Notebooks/Assignment2-ML/iris.csv\""
      ],
      "execution_count": null,
      "outputs": []
    },
    {
      "cell_type": "code",
      "metadata": {
        "id": "wMPM_jHFjFV0"
      },
      "source": [
        "#01-b Read the content of the iris.csv file and save it in a variable, named iris.\n",
        "iris = pd.read_csv(fileName)"
      ],
      "execution_count": null,
      "outputs": []
    },
    {
      "cell_type": "code",
      "metadata": {
        "colab": {
          "base_uri": "https://localhost:8080/",
          "height": 204
        },
        "id": "taYAwBwVjIWo",
        "outputId": "21cef37b-3771-4255-bc8e-336c6395ba45"
      },
      "source": [
        "#01-c Show the first 5 rows of the dataframe.\n",
        "iris.head()"
      ],
      "execution_count": null,
      "outputs": [
        {
          "output_type": "execute_result",
          "data": {
            "text/html": [
              "<div>\n",
              "<style scoped>\n",
              "    .dataframe tbody tr th:only-of-type {\n",
              "        vertical-align: middle;\n",
              "    }\n",
              "\n",
              "    .dataframe tbody tr th {\n",
              "        vertical-align: top;\n",
              "    }\n",
              "\n",
              "    .dataframe thead th {\n",
              "        text-align: right;\n",
              "    }\n",
              "</style>\n",
              "<table border=\"1\" class=\"dataframe\">\n",
              "  <thead>\n",
              "    <tr style=\"text-align: right;\">\n",
              "      <th></th>\n",
              "      <th>sepal_length</th>\n",
              "      <th>sepal_width</th>\n",
              "      <th>petal_length</th>\n",
              "      <th>petal_width</th>\n",
              "      <th>species</th>\n",
              "    </tr>\n",
              "  </thead>\n",
              "  <tbody>\n",
              "    <tr>\n",
              "      <th>0</th>\n",
              "      <td>5.1</td>\n",
              "      <td>3.5</td>\n",
              "      <td>1.4</td>\n",
              "      <td>0.2</td>\n",
              "      <td>setosa</td>\n",
              "    </tr>\n",
              "    <tr>\n",
              "      <th>1</th>\n",
              "      <td>4.9</td>\n",
              "      <td>3.0</td>\n",
              "      <td>1.4</td>\n",
              "      <td>0.2</td>\n",
              "      <td>setosa</td>\n",
              "    </tr>\n",
              "    <tr>\n",
              "      <th>2</th>\n",
              "      <td>4.7</td>\n",
              "      <td>3.2</td>\n",
              "      <td>1.3</td>\n",
              "      <td>0.2</td>\n",
              "      <td>setosa</td>\n",
              "    </tr>\n",
              "    <tr>\n",
              "      <th>3</th>\n",
              "      <td>4.6</td>\n",
              "      <td>3.1</td>\n",
              "      <td>1.5</td>\n",
              "      <td>0.2</td>\n",
              "      <td>setosa</td>\n",
              "    </tr>\n",
              "    <tr>\n",
              "      <th>4</th>\n",
              "      <td>5.0</td>\n",
              "      <td>3.6</td>\n",
              "      <td>1.4</td>\n",
              "      <td>0.2</td>\n",
              "      <td>setosa</td>\n",
              "    </tr>\n",
              "  </tbody>\n",
              "</table>\n",
              "</div>"
            ],
            "text/plain": [
              "   sepal_length  sepal_width  petal_length  petal_width species\n",
              "0           5.1          3.5           1.4          0.2  setosa\n",
              "1           4.9          3.0           1.4          0.2  setosa\n",
              "2           4.7          3.2           1.3          0.2  setosa\n",
              "3           4.6          3.1           1.5          0.2  setosa\n",
              "4           5.0          3.6           1.4          0.2  setosa"
            ]
          },
          "metadata": {
            "tags": []
          },
          "execution_count": 6
        }
      ]
    },
    {
      "cell_type": "code",
      "metadata": {
        "id": "1M4iwPKRjKr1"
      },
      "source": [
        "#2-a Please convert the last column strings to integers, as \n",
        "# setosa -> 0\n",
        "# versicolor -> 1\n",
        "# virginica -> 2\n",
        "iris.replace(to_replace=['setosa', 'versicolor', 'virginica'], value=[0, 1, 2], inplace=True)"
      ],
      "execution_count": null,
      "outputs": []
    },
    {
      "cell_type": "code",
      "metadata": {
        "colab": {
          "base_uri": "https://localhost:8080/",
          "height": 204
        },
        "id": "TbjpEPPrP1VD",
        "outputId": "a549fe0f-df0f-44f9-94e1-fa48c3d70c78"
      },
      "source": [
        "#2-b Now, check the first 5 elements of the iris dataset once again:\n",
        "iris.head()"
      ],
      "execution_count": null,
      "outputs": [
        {
          "output_type": "execute_result",
          "data": {
            "text/html": [
              "<div>\n",
              "<style scoped>\n",
              "    .dataframe tbody tr th:only-of-type {\n",
              "        vertical-align: middle;\n",
              "    }\n",
              "\n",
              "    .dataframe tbody tr th {\n",
              "        vertical-align: top;\n",
              "    }\n",
              "\n",
              "    .dataframe thead th {\n",
              "        text-align: right;\n",
              "    }\n",
              "</style>\n",
              "<table border=\"1\" class=\"dataframe\">\n",
              "  <thead>\n",
              "    <tr style=\"text-align: right;\">\n",
              "      <th></th>\n",
              "      <th>sepal_length</th>\n",
              "      <th>sepal_width</th>\n",
              "      <th>petal_length</th>\n",
              "      <th>petal_width</th>\n",
              "      <th>species</th>\n",
              "    </tr>\n",
              "  </thead>\n",
              "  <tbody>\n",
              "    <tr>\n",
              "      <th>0</th>\n",
              "      <td>5.1</td>\n",
              "      <td>3.5</td>\n",
              "      <td>1.4</td>\n",
              "      <td>0.2</td>\n",
              "      <td>0</td>\n",
              "    </tr>\n",
              "    <tr>\n",
              "      <th>1</th>\n",
              "      <td>4.9</td>\n",
              "      <td>3.0</td>\n",
              "      <td>1.4</td>\n",
              "      <td>0.2</td>\n",
              "      <td>0</td>\n",
              "    </tr>\n",
              "    <tr>\n",
              "      <th>2</th>\n",
              "      <td>4.7</td>\n",
              "      <td>3.2</td>\n",
              "      <td>1.3</td>\n",
              "      <td>0.2</td>\n",
              "      <td>0</td>\n",
              "    </tr>\n",
              "    <tr>\n",
              "      <th>3</th>\n",
              "      <td>4.6</td>\n",
              "      <td>3.1</td>\n",
              "      <td>1.5</td>\n",
              "      <td>0.2</td>\n",
              "      <td>0</td>\n",
              "    </tr>\n",
              "    <tr>\n",
              "      <th>4</th>\n",
              "      <td>5.0</td>\n",
              "      <td>3.6</td>\n",
              "      <td>1.4</td>\n",
              "      <td>0.2</td>\n",
              "      <td>0</td>\n",
              "    </tr>\n",
              "  </tbody>\n",
              "</table>\n",
              "</div>"
            ],
            "text/plain": [
              "   sepal_length  sepal_width  petal_length  petal_width  species\n",
              "0           5.1          3.5           1.4          0.2        0\n",
              "1           4.9          3.0           1.4          0.2        0\n",
              "2           4.7          3.2           1.3          0.2        0\n",
              "3           4.6          3.1           1.5          0.2        0\n",
              "4           5.0          3.6           1.4          0.2        0"
            ]
          },
          "metadata": {
            "tags": []
          },
          "execution_count": 8
        }
      ]
    },
    {
      "cell_type": "code",
      "metadata": {
        "id": "PXAQ5T4FQKZr"
      },
      "source": [
        "#03-a Select the first four columns of the dataframe as the Data and call the data x.\n",
        "x = iris[iris.columns[0:4]]"
      ],
      "execution_count": null,
      "outputs": []
    },
    {
      "cell_type": "code",
      "metadata": {
        "colab": {
          "base_uri": "https://localhost:8080/",
          "height": 419
        },
        "id": "kTc0PvLbQ2Qf",
        "outputId": "878b6be5-aa22-404b-f592-16916c1039f0"
      },
      "source": [
        "x"
      ],
      "execution_count": null,
      "outputs": [
        {
          "output_type": "execute_result",
          "data": {
            "text/html": [
              "<div>\n",
              "<style scoped>\n",
              "    .dataframe tbody tr th:only-of-type {\n",
              "        vertical-align: middle;\n",
              "    }\n",
              "\n",
              "    .dataframe tbody tr th {\n",
              "        vertical-align: top;\n",
              "    }\n",
              "\n",
              "    .dataframe thead th {\n",
              "        text-align: right;\n",
              "    }\n",
              "</style>\n",
              "<table border=\"1\" class=\"dataframe\">\n",
              "  <thead>\n",
              "    <tr style=\"text-align: right;\">\n",
              "      <th></th>\n",
              "      <th>sepal_length</th>\n",
              "      <th>sepal_width</th>\n",
              "      <th>petal_length</th>\n",
              "      <th>petal_width</th>\n",
              "    </tr>\n",
              "  </thead>\n",
              "  <tbody>\n",
              "    <tr>\n",
              "      <th>0</th>\n",
              "      <td>5.1</td>\n",
              "      <td>3.5</td>\n",
              "      <td>1.4</td>\n",
              "      <td>0.2</td>\n",
              "    </tr>\n",
              "    <tr>\n",
              "      <th>1</th>\n",
              "      <td>4.9</td>\n",
              "      <td>3.0</td>\n",
              "      <td>1.4</td>\n",
              "      <td>0.2</td>\n",
              "    </tr>\n",
              "    <tr>\n",
              "      <th>2</th>\n",
              "      <td>4.7</td>\n",
              "      <td>3.2</td>\n",
              "      <td>1.3</td>\n",
              "      <td>0.2</td>\n",
              "    </tr>\n",
              "    <tr>\n",
              "      <th>3</th>\n",
              "      <td>4.6</td>\n",
              "      <td>3.1</td>\n",
              "      <td>1.5</td>\n",
              "      <td>0.2</td>\n",
              "    </tr>\n",
              "    <tr>\n",
              "      <th>4</th>\n",
              "      <td>5.0</td>\n",
              "      <td>3.6</td>\n",
              "      <td>1.4</td>\n",
              "      <td>0.2</td>\n",
              "    </tr>\n",
              "    <tr>\n",
              "      <th>...</th>\n",
              "      <td>...</td>\n",
              "      <td>...</td>\n",
              "      <td>...</td>\n",
              "      <td>...</td>\n",
              "    </tr>\n",
              "    <tr>\n",
              "      <th>145</th>\n",
              "      <td>6.7</td>\n",
              "      <td>3.0</td>\n",
              "      <td>5.2</td>\n",
              "      <td>2.3</td>\n",
              "    </tr>\n",
              "    <tr>\n",
              "      <th>146</th>\n",
              "      <td>6.3</td>\n",
              "      <td>2.5</td>\n",
              "      <td>5.0</td>\n",
              "      <td>1.9</td>\n",
              "    </tr>\n",
              "    <tr>\n",
              "      <th>147</th>\n",
              "      <td>6.5</td>\n",
              "      <td>3.0</td>\n",
              "      <td>5.2</td>\n",
              "      <td>2.0</td>\n",
              "    </tr>\n",
              "    <tr>\n",
              "      <th>148</th>\n",
              "      <td>6.2</td>\n",
              "      <td>3.4</td>\n",
              "      <td>5.4</td>\n",
              "      <td>2.3</td>\n",
              "    </tr>\n",
              "    <tr>\n",
              "      <th>149</th>\n",
              "      <td>5.9</td>\n",
              "      <td>3.0</td>\n",
              "      <td>5.1</td>\n",
              "      <td>1.8</td>\n",
              "    </tr>\n",
              "  </tbody>\n",
              "</table>\n",
              "<p>150 rows × 4 columns</p>\n",
              "</div>"
            ],
            "text/plain": [
              "     sepal_length  sepal_width  petal_length  petal_width\n",
              "0             5.1          3.5           1.4          0.2\n",
              "1             4.9          3.0           1.4          0.2\n",
              "2             4.7          3.2           1.3          0.2\n",
              "3             4.6          3.1           1.5          0.2\n",
              "4             5.0          3.6           1.4          0.2\n",
              "..            ...          ...           ...          ...\n",
              "145           6.7          3.0           5.2          2.3\n",
              "146           6.3          2.5           5.0          1.9\n",
              "147           6.5          3.0           5.2          2.0\n",
              "148           6.2          3.4           5.4          2.3\n",
              "149           5.9          3.0           5.1          1.8\n",
              "\n",
              "[150 rows x 4 columns]"
            ]
          },
          "metadata": {
            "tags": []
          },
          "execution_count": 14
        }
      ]
    },
    {
      "cell_type": "code",
      "metadata": {
        "id": "MECy07-gQ5MT"
      },
      "source": [
        "#03-b Select the last column as the label and call it y.\n",
        "y= iris[iris.columns[len(iris.columns)-1]]"
      ],
      "execution_count": null,
      "outputs": []
    },
    {
      "cell_type": "code",
      "metadata": {
        "colab": {
          "base_uri": "https://localhost:8080/"
        },
        "id": "GV8vRkq9ROKb",
        "outputId": "e171ae74-5a33-4ddb-e08f-e12a3a998d44"
      },
      "source": [
        "y"
      ],
      "execution_count": null,
      "outputs": [
        {
          "output_type": "execute_result",
          "data": {
            "text/plain": [
              "0      0\n",
              "1      0\n",
              "2      0\n",
              "3      0\n",
              "4      0\n",
              "      ..\n",
              "145    2\n",
              "146    2\n",
              "147    2\n",
              "148    2\n",
              "149    2\n",
              "Name: species, Length: 150, dtype: int64"
            ]
          },
          "metadata": {
            "tags": []
          },
          "execution_count": 18
        }
      ]
    },
    {
      "cell_type": "code",
      "metadata": {
        "id": "60RYKdlRROwC"
      },
      "source": [
        "#04 Now, it is the time to split the data (x) and the label (y) into training and testin segments, \n",
        "#   and call them parts x_train,x_test,y_train,y_test."
      ],
      "execution_count": null,
      "outputs": []
    },
    {
      "cell_type": "code",
      "metadata": {
        "id": "EXu8d-HxT0Nu"
      },
      "source": [
        "#04-a Please split the data, and label ito training and testing segments, while the size of test data is 20%,\n",
        "#and use randome_state = 123 to make all the answers similar in the whole class.\n",
        "\n",
        "from sklearn.model_selection import train_test_split\n",
        "x_train, x_test, y_train, y_test = train_test_split(x, y, test_size=0.2, random_state = 123)"
      ],
      "execution_count": null,
      "outputs": []
    },
    {
      "cell_type": "code",
      "metadata": {
        "colab": {
          "base_uri": "https://localhost:8080/",
          "height": 204
        },
        "id": "CYQK_0cZWC_H",
        "outputId": "3d145026-dd98-4d66-9a37-38da191541be"
      },
      "source": [
        "#04-b Please, check the first five rows of  x_train,x_test,y_train,y_test.\n",
        "x_train.head()"
      ],
      "execution_count": null,
      "outputs": [
        {
          "output_type": "execute_result",
          "data": {
            "text/html": [
              "<div>\n",
              "<style scoped>\n",
              "    .dataframe tbody tr th:only-of-type {\n",
              "        vertical-align: middle;\n",
              "    }\n",
              "\n",
              "    .dataframe tbody tr th {\n",
              "        vertical-align: top;\n",
              "    }\n",
              "\n",
              "    .dataframe thead th {\n",
              "        text-align: right;\n",
              "    }\n",
              "</style>\n",
              "<table border=\"1\" class=\"dataframe\">\n",
              "  <thead>\n",
              "    <tr style=\"text-align: right;\">\n",
              "      <th></th>\n",
              "      <th>sepal_length</th>\n",
              "      <th>sepal_width</th>\n",
              "      <th>petal_length</th>\n",
              "      <th>petal_width</th>\n",
              "    </tr>\n",
              "  </thead>\n",
              "  <tbody>\n",
              "    <tr>\n",
              "      <th>130</th>\n",
              "      <td>7.4</td>\n",
              "      <td>2.8</td>\n",
              "      <td>6.1</td>\n",
              "      <td>1.9</td>\n",
              "    </tr>\n",
              "    <tr>\n",
              "      <th>119</th>\n",
              "      <td>6.0</td>\n",
              "      <td>2.2</td>\n",
              "      <td>5.0</td>\n",
              "      <td>1.5</td>\n",
              "    </tr>\n",
              "    <tr>\n",
              "      <th>29</th>\n",
              "      <td>4.7</td>\n",
              "      <td>3.2</td>\n",
              "      <td>1.6</td>\n",
              "      <td>0.2</td>\n",
              "    </tr>\n",
              "    <tr>\n",
              "      <th>0</th>\n",
              "      <td>5.1</td>\n",
              "      <td>3.5</td>\n",
              "      <td>1.4</td>\n",
              "      <td>0.2</td>\n",
              "    </tr>\n",
              "    <tr>\n",
              "      <th>62</th>\n",
              "      <td>6.0</td>\n",
              "      <td>2.2</td>\n",
              "      <td>4.0</td>\n",
              "      <td>1.0</td>\n",
              "    </tr>\n",
              "  </tbody>\n",
              "</table>\n",
              "</div>"
            ],
            "text/plain": [
              "     sepal_length  sepal_width  petal_length  petal_width\n",
              "130           7.4          2.8           6.1          1.9\n",
              "119           6.0          2.2           5.0          1.5\n",
              "29            4.7          3.2           1.6          0.2\n",
              "0             5.1          3.5           1.4          0.2\n",
              "62            6.0          2.2           4.0          1.0"
            ]
          },
          "metadata": {
            "tags": []
          },
          "execution_count": 20
        }
      ]
    },
    {
      "cell_type": "code",
      "metadata": {
        "colab": {
          "base_uri": "https://localhost:8080/",
          "height": 204
        },
        "id": "04kQryOrWJZO",
        "outputId": "d6a35528-23c8-4c58-a476-d3c7e9d51cbb"
      },
      "source": [
        "x_test.head()"
      ],
      "execution_count": null,
      "outputs": [
        {
          "output_type": "execute_result",
          "data": {
            "text/html": [
              "<div>\n",
              "<style scoped>\n",
              "    .dataframe tbody tr th:only-of-type {\n",
              "        vertical-align: middle;\n",
              "    }\n",
              "\n",
              "    .dataframe tbody tr th {\n",
              "        vertical-align: top;\n",
              "    }\n",
              "\n",
              "    .dataframe thead th {\n",
              "        text-align: right;\n",
              "    }\n",
              "</style>\n",
              "<table border=\"1\" class=\"dataframe\">\n",
              "  <thead>\n",
              "    <tr style=\"text-align: right;\">\n",
              "      <th></th>\n",
              "      <th>sepal_length</th>\n",
              "      <th>sepal_width</th>\n",
              "      <th>petal_length</th>\n",
              "      <th>petal_width</th>\n",
              "    </tr>\n",
              "  </thead>\n",
              "  <tbody>\n",
              "    <tr>\n",
              "      <th>72</th>\n",
              "      <td>6.3</td>\n",
              "      <td>2.5</td>\n",
              "      <td>4.9</td>\n",
              "      <td>1.5</td>\n",
              "    </tr>\n",
              "    <tr>\n",
              "      <th>112</th>\n",
              "      <td>6.8</td>\n",
              "      <td>3.0</td>\n",
              "      <td>5.5</td>\n",
              "      <td>2.1</td>\n",
              "    </tr>\n",
              "    <tr>\n",
              "      <th>132</th>\n",
              "      <td>6.4</td>\n",
              "      <td>2.8</td>\n",
              "      <td>5.6</td>\n",
              "      <td>2.2</td>\n",
              "    </tr>\n",
              "    <tr>\n",
              "      <th>88</th>\n",
              "      <td>5.6</td>\n",
              "      <td>3.0</td>\n",
              "      <td>4.1</td>\n",
              "      <td>1.3</td>\n",
              "    </tr>\n",
              "    <tr>\n",
              "      <th>37</th>\n",
              "      <td>4.9</td>\n",
              "      <td>3.1</td>\n",
              "      <td>1.5</td>\n",
              "      <td>0.1</td>\n",
              "    </tr>\n",
              "  </tbody>\n",
              "</table>\n",
              "</div>"
            ],
            "text/plain": [
              "     sepal_length  sepal_width  petal_length  petal_width\n",
              "72            6.3          2.5           4.9          1.5\n",
              "112           6.8          3.0           5.5          2.1\n",
              "132           6.4          2.8           5.6          2.2\n",
              "88            5.6          3.0           4.1          1.3\n",
              "37            4.9          3.1           1.5          0.1"
            ]
          },
          "metadata": {
            "tags": []
          },
          "execution_count": 21
        }
      ]
    },
    {
      "cell_type": "code",
      "metadata": {
        "colab": {
          "base_uri": "https://localhost:8080/"
        },
        "id": "H4iCUUQ3WR9m",
        "outputId": "ada7b74f-44e9-4b1f-dcf9-a95801f6bfe6"
      },
      "source": [
        "y_train.head()"
      ],
      "execution_count": null,
      "outputs": [
        {
          "output_type": "execute_result",
          "data": {
            "text/plain": [
              "130    2\n",
              "119    2\n",
              "29     0\n",
              "0      0\n",
              "62     1\n",
              "Name: species, dtype: int64"
            ]
          },
          "metadata": {
            "tags": []
          },
          "execution_count": 22
        }
      ]
    },
    {
      "cell_type": "code",
      "metadata": {
        "colab": {
          "base_uri": "https://localhost:8080/"
        },
        "id": "dv3v95yaWVdU",
        "outputId": "73f58997-47f9-482f-c004-28e69a004f67"
      },
      "source": [
        "y_test.head()"
      ],
      "execution_count": null,
      "outputs": [
        {
          "output_type": "execute_result",
          "data": {
            "text/plain": [
              "72     1\n",
              "112    2\n",
              "132    2\n",
              "88     1\n",
              "37     0\n",
              "Name: species, dtype: int64"
            ]
          },
          "metadata": {
            "tags": []
          },
          "execution_count": 23
        }
      ]
    },
    {
      "cell_type": "code",
      "metadata": {
        "colab": {
          "base_uri": "https://localhost:8080/"
        },
        "id": "jdSbMIbYWZOl",
        "outputId": "24f69b36-ea6d-4320-e24f-c70982b6465f"
      },
      "source": [
        "#04-c Check the length of the x_train and x_test. If the numbers are 120 & 30, AWESOME! \n",
        "#     You are good to continue!\n",
        "len(x_train)"
      ],
      "execution_count": null,
      "outputs": [
        {
          "output_type": "execute_result",
          "data": {
            "text/plain": [
              "120"
            ]
          },
          "metadata": {
            "tags": []
          },
          "execution_count": 25
        }
      ]
    },
    {
      "cell_type": "code",
      "metadata": {
        "colab": {
          "base_uri": "https://localhost:8080/"
        },
        "id": "v5V9Wfv5WptT",
        "outputId": "d8d27d5f-8313-4b33-ef77-a294d83c6ef3"
      },
      "source": [
        "len(x_test)"
      ],
      "execution_count": null,
      "outputs": [
        {
          "output_type": "execute_result",
          "data": {
            "text/plain": [
              "30"
            ]
          },
          "metadata": {
            "tags": []
          },
          "execution_count": 26
        }
      ]
    },
    {
      "cell_type": "code",
      "metadata": {
        "id": "zJE58m9sWuR7"
      },
      "source": [
        "#05-a Please, convert y_train and y_test into categorical, and call them\n",
        "#     one_hot_train_labels, and one_hot_test_labels, respectively.\n",
        "\n",
        "from keras.utils.np_utils import to_categorical\n",
        "one_hot_train_labels = to_categorical(y_train)\n",
        "one_hot_test_labels = to_categorical(y_test)"
      ],
      "execution_count": null,
      "outputs": []
    },
    {
      "cell_type": "code",
      "metadata": {
        "id": "mJsCzDfmYsPG"
      },
      "source": [
        "#06-a Please define a sequential model that contains 3 dense layers.\n",
        "#     In the first and second layers, use 100 hidden units (neurons) and a 'relu' activation function.\n",
        "#     For the last layer, we need to use 3 as the number of output, \n",
        "#     and the reason is we have three classes (setosa -> 0, versicolor -> 1, virginica -> 2)\n",
        "#     Also, please pick an appropriate activation function for the last layer. \n",
        "#     (You already have guessed what could be the best when we have converted the labels to categorical.)\n",
        "\n",
        "from keras import models, layers\n",
        "iris = models.Sequential()\n",
        "iris.add(layers.Dense(100, activation='relu'))\n",
        "iris.add(layers.Dense(100, activation='relu'))\n",
        "iris.add(layers.Dense(3, activation='softmax'))"
      ],
      "execution_count": null,
      "outputs": []
    },
    {
      "cell_type": "code",
      "metadata": {
        "id": "AquyzcguZn9i"
      },
      "source": [
        "#06-b Now, please compile your model using 'rmsprop', an appropriate loss function, and 'accuracy' for your metrics.\n",
        "iris.compile(optimizer='rmsprop', loss='categorical_crossentropy', metrics=['accuracy'])"
      ],
      "execution_count": null,
      "outputs": []
    },
    {
      "cell_type": "code",
      "metadata": {
        "colab": {
          "base_uri": "https://localhost:8080/"
        },
        "id": "Vi5atsogZ670",
        "outputId": "0ba468b5-aa5a-456c-d420-be7a45d528e3"
      },
      "source": [
        "#07-a Pleease fit your model using epoch=20, batch = 10.\n",
        "iris.fit(x_train, one_hot_train_labels, epochs=20, batch_size=10, validation_data=(x_test, one_hot_test_labels))"
      ],
      "execution_count": null,
      "outputs": [
        {
          "output_type": "stream",
          "text": [
            "Epoch 1/20\n",
            "12/12 [==============================] - 0s 9ms/step - loss: 0.0901 - accuracy: 0.9750 - val_loss: 0.1619 - val_accuracy: 0.9000\n",
            "Epoch 2/20\n",
            "12/12 [==============================] - 0s 4ms/step - loss: 0.0914 - accuracy: 0.9667 - val_loss: 0.1051 - val_accuracy: 0.9667\n",
            "Epoch 3/20\n",
            "12/12 [==============================] - 0s 4ms/step - loss: 0.0916 - accuracy: 0.9583 - val_loss: 0.1333 - val_accuracy: 0.9000\n",
            "Epoch 4/20\n",
            "12/12 [==============================] - 0s 4ms/step - loss: 0.0938 - accuracy: 0.9750 - val_loss: 0.1148 - val_accuracy: 0.9333\n",
            "Epoch 5/20\n",
            "12/12 [==============================] - 0s 4ms/step - loss: 0.1005 - accuracy: 0.9583 - val_loss: 0.1024 - val_accuracy: 0.9667\n",
            "Epoch 6/20\n",
            "12/12 [==============================] - 0s 4ms/step - loss: 0.0689 - accuracy: 0.9833 - val_loss: 0.2047 - val_accuracy: 0.8667\n",
            "Epoch 7/20\n",
            "12/12 [==============================] - 0s 13ms/step - loss: 0.0912 - accuracy: 0.9667 - val_loss: 0.1078 - val_accuracy: 0.9667\n",
            "Epoch 8/20\n",
            "12/12 [==============================] - 0s 4ms/step - loss: 0.0699 - accuracy: 0.9583 - val_loss: 0.1431 - val_accuracy: 0.9000\n",
            "Epoch 9/20\n",
            "12/12 [==============================] - 0s 4ms/step - loss: 0.0870 - accuracy: 0.9667 - val_loss: 0.1054 - val_accuracy: 0.9667\n",
            "Epoch 10/20\n",
            "12/12 [==============================] - 0s 4ms/step - loss: 0.0946 - accuracy: 0.9583 - val_loss: 0.1238 - val_accuracy: 0.9333\n",
            "Epoch 11/20\n",
            "12/12 [==============================] - 0s 4ms/step - loss: 0.0796 - accuracy: 0.9833 - val_loss: 0.1567 - val_accuracy: 0.9000\n",
            "Epoch 12/20\n",
            "12/12 [==============================] - 0s 4ms/step - loss: 0.0916 - accuracy: 0.9500 - val_loss: 0.1209 - val_accuracy: 0.9667\n",
            "Epoch 13/20\n",
            "12/12 [==============================] - 0s 4ms/step - loss: 0.0738 - accuracy: 0.9583 - val_loss: 0.0969 - val_accuracy: 0.9667\n",
            "Epoch 14/20\n",
            "12/12 [==============================] - 0s 4ms/step - loss: 0.0771 - accuracy: 0.9667 - val_loss: 0.1795 - val_accuracy: 0.9000\n",
            "Epoch 15/20\n",
            "12/12 [==============================] - 0s 4ms/step - loss: 0.0883 - accuracy: 0.9583 - val_loss: 0.0994 - val_accuracy: 0.9667\n",
            "Epoch 16/20\n",
            "12/12 [==============================] - 0s 4ms/step - loss: 0.0860 - accuracy: 0.9667 - val_loss: 0.0967 - val_accuracy: 0.9667\n",
            "Epoch 17/20\n",
            "12/12 [==============================] - 0s 4ms/step - loss: 0.0963 - accuracy: 0.9750 - val_loss: 0.0972 - val_accuracy: 0.9667\n",
            "Epoch 18/20\n",
            "12/12 [==============================] - 0s 4ms/step - loss: 0.0893 - accuracy: 0.9583 - val_loss: 0.1082 - val_accuracy: 0.9333\n",
            "Epoch 19/20\n",
            "12/12 [==============================] - 0s 4ms/step - loss: 0.0915 - accuracy: 0.9583 - val_loss: 0.1151 - val_accuracy: 0.9333\n",
            "Epoch 20/20\n",
            "12/12 [==============================] - 0s 4ms/step - loss: 0.0480 - accuracy: 0.9917 - val_loss: 0.5169 - val_accuracy: 0.8000\n"
          ],
          "name": "stdout"
        },
        {
          "output_type": "execute_result",
          "data": {
            "text/plain": [
              "<tensorflow.python.keras.callbacks.History at 0x7f4db1c38450>"
            ]
          },
          "metadata": {
            "tags": []
          },
          "execution_count": 32
        }
      ]
    },
    {
      "cell_type": "code",
      "metadata": {
        "colab": {
          "base_uri": "https://localhost:8080/"
        },
        "id": "gQ8SWDjHbH3Q",
        "outputId": "4160e95f-7500-4291-caf8-7fbed2c6b730"
      },
      "source": [
        "#08-a Please calculate the result, evaluating your x_test, one_hot_test_label, and see how accurate your model works.\n",
        "result = iris.evaluate(x_test, one_hot_test_labels)"
      ],
      "execution_count": null,
      "outputs": [
        {
          "output_type": "stream",
          "text": [
            "1/1 [==============================] - 0s 132ms/step - loss: 0.5169 - accuracy: 0.8000\n"
          ],
          "name": "stdout"
        }
      ]
    },
    {
      "cell_type": "code",
      "metadata": {
        "id": "OO-X8qUKcQjp"
      },
      "source": [
        "#09-a Now, we repeate all we have done in #06-a with the following parameters:\n",
        "#     In the first and second layers, use 10 hidden units (neurons) and a 'relu' activation function.\n",
        "#     For the last layer, we need to use 3.\n",
        "\n",
        "iris = models.Sequential()\n",
        "iris.add(layers.Dense(10, activation='relu'))\n",
        "iris.add(layers.Dense(10, activation='relu'))\n",
        "iris.add(layers.Dense(3, activation='softmax'))"
      ],
      "execution_count": null,
      "outputs": []
    },
    {
      "cell_type": "code",
      "metadata": {
        "id": "w79c0bz8c0Ll"
      },
      "source": [
        "#09-b Use the same setting as you have done for #06-b (compile phase using 'rmsprom' and et cetera)\n",
        "iris.compile(optimizer='rmsprop', loss='categorical_crossentropy', metrics=['accuracy'])"
      ],
      "execution_count": null,
      "outputs": []
    },
    {
      "cell_type": "code",
      "metadata": {
        "colab": {
          "base_uri": "https://localhost:8080/"
        },
        "id": "nSvBK5CGdCZX",
        "outputId": "ebfd5bc4-6dfe-44be-acb9-4ba28cd834c7"
      },
      "source": [
        "#09-c Please fit your model using epoch=4, batch = 10.\n",
        "iris.fit(x_train, one_hot_train_labels, epochs=4, batch_size=10)"
      ],
      "execution_count": null,
      "outputs": [
        {
          "output_type": "stream",
          "text": [
            "Epoch 1/4\n",
            "12/12 [==============================] - 0s 1ms/step - loss: 1.8685 - accuracy: 0.3031\n",
            "Epoch 2/4\n",
            "12/12 [==============================] - 0s 1ms/step - loss: 1.5229 - accuracy: 0.2554\n",
            "Epoch 3/4\n",
            "12/12 [==============================] - 0s 1ms/step - loss: 1.5053 - accuracy: 0.0962\n",
            "Epoch 4/4\n",
            "12/12 [==============================] - 0s 1ms/step - loss: 1.2463 - accuracy: 0.3109\n"
          ],
          "name": "stdout"
        },
        {
          "output_type": "execute_result",
          "data": {
            "text/plain": [
              "<tensorflow.python.keras.callbacks.History at 0x7f4db4524250>"
            ]
          },
          "metadata": {
            "tags": []
          },
          "execution_count": 37
        }
      ]
    },
    {
      "cell_type": "code",
      "metadata": {
        "colab": {
          "base_uri": "https://localhost:8080/"
        },
        "id": "pghN6dTNdLxn",
        "outputId": "f2af033f-9218-42c8-a9af-81cfc4d6a034"
      },
      "source": [
        "#09-d Please calculate the result, evaluating your x_test, one_hot_test_label, and see how accurate your model works.\n",
        "result = iris.evaluate(x_test, one_hot_test_labels)"
      ],
      "execution_count": null,
      "outputs": [
        {
          "output_type": "stream",
          "text": [
            "1/1 [==============================] - 0s 93ms/step - loss: 1.2358 - accuracy: 0.5333\n"
          ],
          "name": "stdout"
        }
      ]
    },
    {
      "cell_type": "code",
      "metadata": {
        "id": "Mnpu5HUQiShJ"
      },
      "source": [
        "#10-a Please explain all you have learned from this assignment. \n",
        "# Theese are some quiestions that you could answer:\n",
        "# How the number of layers or hidden units could impact the accuracy of our model.\n",
        "# Do we always suffer from overfitting?\n",
        "# How can we find and manage overfitting?"
      ],
      "execution_count": null,
      "outputs": []
    },
    {
      "cell_type": "markdown",
      "metadata": {
        "id": "O83sQbPwi8e2"
      },
      "source": [
        "The simplest way to prevent overfitting is to reduce the size of the model: the number of learnable parameters in the mode (which is determined by the number of layers and the number of units per layer)"
      ]
    },
    {
      "cell_type": "code",
      "metadata": {
        "id": "U4pYdWEFmucb"
      },
      "source": [
        "#10-b\n",
        "# Please try different sessing as we did in #09\n",
        "# You can change the number of layers, hidden units, compile parameters, number of epochs, batch_size... everything!\n",
        "# Please change one parameter at a time.\n",
        "# And share your experience.\n"
      ],
      "execution_count": null,
      "outputs": []
    },
    {
      "cell_type": "markdown",
      "metadata": {
        "id": "IkSmNFMhpS2x"
      },
      "source": [
        "it is vary intersting and I see changess with the accuracy as well as loss function. \n",
        "definitlly we are experiecing overfitting."
      ]
    }
  ]
}